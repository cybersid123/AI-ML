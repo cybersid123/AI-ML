{
  "nbformat": 4,
  "nbformat_minor": 0,
  "metadata": {
    "colab": {
      "provenance": [],
      "authorship_tag": "ABX9TyMZRuYG9ebpX1tBQRsxqNbI",
      "include_colab_link": true
    },
    "kernelspec": {
      "name": "python3",
      "display_name": "Python 3"
    },
    "language_info": {
      "name": "python"
    }
  },
  "cells": [
    {
      "cell_type": "markdown",
      "metadata": {
        "id": "view-in-github",
        "colab_type": "text"
      },
      "source": [
        "<a href=\"https://colab.research.google.com/github/cybersid123/AI-ML/blob/main/Data_Analysis_NumPy.ipynb\" target=\"_parent\"><img src=\"https://colab.research.google.com/assets/colab-badge.svg\" alt=\"Open In Colab\"/></a>"
      ]
    },
    {
      "cell_type": "code",
      "execution_count": null,
      "metadata": {
        "id": "WWBXfI_trLtY"
      },
      "outputs": [],
      "source": [
        "\n"
      ]
    },
    {
      "cell_type": "markdown",
      "source": [
        "#NumPy"
      ],
      "metadata": {
        "id": "ZybXnkPAti3P"
      }
    },
    {
      "cell_type": "markdown",
      "source": [
        "1> Vectors - 1D Array 2> Matrices - 2D Arrays"
      ],
      "metadata": {
        "id": "HKUIB_rmthtG"
      }
    },
    {
      "cell_type": "code",
      "source": [
        "import numpy as np"
      ],
      "metadata": {
        "id": "vTdyrkr5tmMo"
      },
      "execution_count": null,
      "outputs": []
    },
    {
      "cell_type": "markdown",
      "source": [
        "my_list = [1,2,3]\n",
        "**bold text**\n"
      ],
      "metadata": {
        "id": "nDLWNAmLtd8z"
      }
    },
    {
      "cell_type": "code",
      "source": [
        "my_matrix\n",
        "\n",
        "np.array(my_matrix)\n",
        "\n",
        "my_matrix\n",
        "\n",
        "np.arange(5,100,5)\n",
        "\n",
        "np.linspace(0,11)\n",
        "\n",
        "np.eye(5)"
      ],
      "metadata": {
        "colab": {
          "base_uri": "https://localhost:8080/"
        },
        "id": "w95wrCPHuHD2",
        "outputId": "955659d3-5112-4f4d-e20c-137cb76fc51e"
      },
      "execution_count": null,
      "outputs": [
        {
          "output_type": "execute_result",
          "data": {
            "text/plain": [
              "array([[1., 0., 0., 0., 0.],\n",
              "       [0., 1., 0., 0., 0.],\n",
              "       [0., 0., 1., 0., 0.],\n",
              "       [0., 0., 0., 1., 0.],\n",
              "       [0., 0., 0., 0., 1.]])"
            ]
          },
          "metadata": {},
          "execution_count": 11
        }
      ]
    },
    {
      "cell_type": "code",
      "source": [
        "my_list = [1,2,3]\n",
        "\n",
        "my_list\n",
        "\n",
        "np.array(my_list)\n",
        "\n",
        "my_matrix = [[1,2,3],[4,5,6],[7,8,9]]\n",
        "\n",
        "np.random.randint(1)\n",
        "\n",
        "\n"
      ],
      "metadata": {
        "id": "F6-qc036uFUn",
        "colab": {
          "base_uri": "https://localhost:8080/"
        },
        "outputId": "451bd21c-72aa-4fac-bafc-d365464d3fdf"
      },
      "execution_count": null,
      "outputs": [
        {
          "output_type": "execute_result",
          "data": {
            "text/plain": [
              "0"
            ]
          },
          "metadata": {},
          "execution_count": 17
        }
      ]
    },
    {
      "cell_type": "markdown",
      "source": [
        "#Random\n"
      ],
      "metadata": {
        "id": "3xfF779QzAlE"
      }
    },
    {
      "cell_type": "code",
      "source": [
        "np.random.rand(3)\n",
        "\n",
        "np.random.rand(5,5)"
      ],
      "metadata": {
        "id": "bSyy2a3NzDvY",
        "colab": {
          "base_uri": "https://localhost:8080/"
        },
        "outputId": "748395ea-5fa2-44a6-f01c-ca4f2bab8c69"
      },
      "execution_count": null,
      "outputs": [
        {
          "output_type": "execute_result",
          "data": {
            "text/plain": [
              "array([[0.1018743 , 0.33413173, 0.45734045, 0.81496701, 0.69704751],\n",
              "       [0.01631816, 0.70056237, 0.97103305, 0.11036206, 0.2319476 ],\n",
              "       [0.59953145, 0.84839137, 0.76157997, 0.14437657, 0.41372251],\n",
              "       [0.24923229, 0.25396003, 0.84951192, 0.22152857, 0.91945128],\n",
              "       [0.8558391 , 0.64861051, 0.91887444, 0.36304082, 0.16730876]])"
            ]
          },
          "metadata": {},
          "execution_count": 14
        }
      ]
    },
    {
      "cell_type": "markdown",
      "source": [
        "#Array Attributes and Methods"
      ],
      "metadata": {
        "id": "lzARuQno1ti6"
      }
    },
    {
      "cell_type": "code",
      "source": [
        "arr = np.arange(25)\n",
        "\n",
        "arr\n",
        "\n",
        "arr.dtype"
      ],
      "metadata": {
        "colab": {
          "base_uri": "https://localhost:8080/"
        },
        "id": "mR10CWJF13LA",
        "outputId": "4e46a464-0a51-4f37-eb74-55cda2a6acb5"
      },
      "execution_count": null,
      "outputs": [
        {
          "output_type": "execute_result",
          "data": {
            "text/plain": [
              "dtype('int64')"
            ]
          },
          "metadata": {},
          "execution_count": 21
        }
      ]
    },
    {
      "cell_type": "markdown",
      "source": [
        "#NumPy Indexing and Selection"
      ],
      "metadata": {
        "id": "wcqeOxoL4n3Y"
      }
    },
    {
      "cell_type": "code",
      "source": [
        "arr = np.arange(0,11)\n",
        "\n",
        "arr\n",
        "\n",
        "arr[1:5]"
      ],
      "metadata": {
        "colab": {
          "base_uri": "https://localhost:8080/"
        },
        "id": "0DfZTM0K4slO",
        "outputId": "cd292c90-f6ce-47eb-b36c-7a9764b5c945"
      },
      "execution_count": null,
      "outputs": [
        {
          "output_type": "execute_result",
          "data": {
            "text/plain": [
              "array([1, 2, 3, 4])"
            ]
          },
          "metadata": {},
          "execution_count": 25
        }
      ]
    },
    {
      "cell_type": "markdown",
      "source": [
        "#Broadcasting"
      ],
      "metadata": {
        "id": "GuI9aSC75Prh"
      }
    },
    {
      "cell_type": "code",
      "source": [
        "arr[0:5]\n",
        "\n",
        "slice_array = arr[0:6]\n",
        "\n",
        "slice_array\n",
        "\n",
        "slice_array[:] = 100\n",
        "\n",
        "slice_array"
      ],
      "metadata": {
        "colab": {
          "base_uri": "https://localhost:8080/"
        },
        "id": "fqEAbgz45Rvi",
        "outputId": "24902649-1bee-4612-b81d-cd63c4e2e06d"
      },
      "execution_count": null,
      "outputs": [
        {
          "output_type": "execute_result",
          "data": {
            "text/plain": [
              "array([100, 100, 100, 100, 100, 100])"
            ]
          },
          "metadata": {},
          "execution_count": 31
        }
      ]
    },
    {
      "cell_type": "markdown",
      "source": [
        "#2D Indexing"
      ],
      "metadata": {
        "id": "hzbV4GTO4JkS"
      }
    },
    {
      "cell_type": "code",
      "source": [
        "import numpy as np\n",
        "\n",
        "\n",
        "arr2d = np.zeros((10,10))\n",
        "\n",
        "arr2d\n",
        "\n",
        "arr_length = arr2d.shape\n",
        "\n",
        "arr_length\n",
        "\n",
        "arr = np.arange(1,11)\n",
        "\n",
        "arr\n",
        "\n",
        "bool_arr = arr>4\n",
        "\n",
        "bool_arr\n",
        "\n",
        "\n",
        "arr[bool_arr]"
      ],
      "metadata": {
        "colab": {
          "base_uri": "https://localhost:8080/"
        },
        "id": "gFQFjd-B4OsT",
        "outputId": "a388480f-49de-4322-c9bc-3c0481147869"
      },
      "execution_count": null,
      "outputs": [
        {
          "output_type": "execute_result",
          "data": {
            "text/plain": [
              "array([ 5,  6,  7,  8,  9, 10])"
            ]
          },
          "metadata": {},
          "execution_count": 21
        }
      ]
    },
    {
      "cell_type": "markdown",
      "source": [
        "#NumPy Ops\n"
      ],
      "metadata": {
        "id": "ZrRxnA3T8PVA"
      }
    },
    {
      "cell_type": "code",
      "source": [
        "arr = np.arange(0,10)\n",
        "\n",
        "arr\n",
        "\n",
        "arr+arr\n",
        "\n",
        "5 + arr\n",
        "\n",
        "arr*3\n"
      ],
      "metadata": {
        "colab": {
          "base_uri": "https://localhost:8080/"
        },
        "id": "pxCdJM7q8TBP",
        "outputId": "47923a5c-7d5a-4805-8af8-a9386cfa5377"
      },
      "execution_count": null,
      "outputs": [
        {
          "output_type": "execute_result",
          "data": {
            "text/plain": [
              "array([ 0,  3,  6,  9, 12, 15, 18, 21, 24, 27])"
            ]
          },
          "metadata": {},
          "execution_count": 26
        }
      ]
    }
  ]
}