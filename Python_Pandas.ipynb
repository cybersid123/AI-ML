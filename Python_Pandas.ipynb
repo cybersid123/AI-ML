{
  "nbformat": 4,
  "nbformat_minor": 0,
  "metadata": {
    "colab": {
      "provenance": [],
      "authorship_tag": "ABX9TyOSBv97mGIvJHrG+TkwMjbf",
      "include_colab_link": true
    },
    "kernelspec": {
      "name": "python3",
      "display_name": "Python 3"
    },
    "language_info": {
      "name": "python"
    }
  },
  "cells": [
    {
      "cell_type": "markdown",
      "metadata": {
        "id": "view-in-github",
        "colab_type": "text"
      },
      "source": [
        "<a href=\"https://colab.research.google.com/github/cybersid123/AI-ML/blob/main/Python_Pandas.ipynb\" target=\"_parent\"><img src=\"https://colab.research.google.com/assets/colab-badge.svg\" alt=\"Open In Colab\"/></a>"
      ]
    },
    {
      "cell_type": "code",
      "execution_count": null,
      "metadata": {
        "id": "BdJVYthMsAQR"
      },
      "outputs": [],
      "source": []
    },
    {
      "cell_type": "markdown",
      "source": [
        "#Series - Data Type"
      ],
      "metadata": {
        "id": "DJCH-LXIul4B"
      }
    },
    {
      "cell_type": "code",
      "source": [
        "import numpy as np\n",
        "import pandas as pd"
      ],
      "metadata": {
        "id": "7CcCCB9HupEH"
      },
      "execution_count": null,
      "outputs": []
    },
    {
      "cell_type": "markdown",
      "source": [
        "#Create a Series"
      ],
      "metadata": {
        "id": "LwV4-vL_vCIq"
      }
    },
    {
      "cell_type": "code",
      "source": [
        "labels = ['a','b','c']\n",
        "my_list = [10,20,30]\n",
        "arr = np.array([10,20,30])\n",
        "d = {'a':10,'b':20,'c':30}\n",
        "\n",
        "pd.Series(data=my_list)\n",
        "\n",
        "type(pd.Series(data=my_list ))\n",
        "\n",
        "\n",
        "pd.Series(data = my_list, index = labels)\n",
        "\n",
        "#using array\n",
        "\n",
        "pd.Series(arr)\n",
        "\n",
        "pd.Series(arr, index = labels)\n",
        "\n",
        "#using dict\n",
        "\n",
        "pd.Series(data = d)pd.Series(data = d)"
      ],
      "metadata": {
        "id": "tgqR2yrSvGEX"
      },
      "execution_count": null,
      "outputs": []
    },
    {
      "cell_type": "markdown",
      "source": [
        "#Data Frame"
      ],
      "metadata": {
        "id": "303OIDCR1fPM"
      }
    },
    {
      "cell_type": "code",
      "source": [
        "import numpy as np\n",
        "import pandas as pd\n",
        "\n",
        "\n",
        "index = ['A','B','C','D','E']\n",
        "columns = ['W','X','Y','Z']\n",
        "\n",
        "\n",
        "from numpy.random import randint\n",
        "\n",
        "\n",
        "np.random.seed(42)\n",
        "data = np.random.randint(-100,100,(5,4))\n",
        "\n",
        "\n",
        "data\n",
        "\n",
        "df = pd.DataFrame(data,index,columns)\n",
        "\n",
        "df\n",
        "\n",
        "df['W']\n",
        "\n",
        "df.loc['A']\n",
        "\n",
        "type(df.loc['A'])\n",
        "\n",
        "\n",
        "\n",
        "\n",
        "\n",
        "import numpy as np\n",
        "import pandas as pd\n",
        "\n",
        "index = ['A','B','C','D','E']\n",
        "columns = ['W','X','Y','Z']\n",
        "\n",
        "from numpy.random import randint\n",
        "\n",
        "np.random.seed(42)\n",
        "data = np.random.randint(-100,100,(5,4))\n",
        "\n",
        "data\n",
        "\n",
        "df = pd.DataFrame(data, index, columns)\n",
        "\n",
        "df\n",
        "\n",
        "df[(df['Z']>0) & (df['Y']>1)]\n",
        "\n",
        "\n",
        "df[(df['Z']>0) | (df['Y']>1)]\n",
        "\n",
        "\n",
        "df\n",
        "\n",
        "df.reset_index()\n",
        "\n",
        "df.loc['A']\n",
        "\n",
        "\n",
        "df.describe()\n",
        "\n",
        "newindex = ['UP','MP','AP','TN','JK']\n",
        "\n",
        "\n",
        "df = pd.read_csv('Universities.csv')\n",
        "\n",
        "df.head()\n",
        "\n",
        "df.groupby('Year')\n",
        "\n",
        "df.groupby('Year').mean()\n",
        "\n",
        "df.groupby('Year').count()\n",
        "\n",
        "df.info()\n"
      ],
      "metadata": {
        "id": "0FTsXx-u1hds"
      },
      "execution_count": null,
      "outputs": []
    }
  ]
}